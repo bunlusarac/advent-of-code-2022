{
  "nbformat": 4,
  "nbformat_minor": 0,
  "metadata": {
    "colab": {
      "provenance": [],
      "authorship_tag": "ABX9TyPO8oQekGs/TxWxOkVFEYP5"
    },
    "kernelspec": {
      "name": "python3",
      "display_name": "Python 3"
    },
    "language_info": {
      "name": "python"
    }
  },
  "cells": [
    {
      "cell_type": "code",
      "execution_count": 28,
      "metadata": {
        "id": "GMSGN1IDaf7N"
      },
      "outputs": [],
      "source": [
        "import numpy as np\n",
        "import sympy as sp\n",
        "\n",
        "from sympy.abc import x, y\n",
        "from sympy.tensor.array import derive_by_array\n",
        "from sympy.matrices import Matrix"
      ]
    },
    {
      "cell_type": "code",
      "source": [
        "def tpose(mx):\n",
        "  return mx.reshape(mx.shape[1], mx.shape[0])\n",
        "\n",
        "def grad(fun, varlist):\n",
        "  grad_nontrans = derive_by_array(fun, [x,y])\n",
        "  return grad_nontrans.reshape(grad_nontrans.shape[0], 1)\n"
      ],
      "metadata": {
        "id": "zFOo36mg0f0u"
      },
      "execution_count": 29,
      "outputs": []
    },
    {
      "cell_type": "markdown",
      "source": [
        "## Basic Conjugate Direction Method"
      ],
      "metadata": {
        "id": "lXdvFR4jcAFK"
      }
    },
    {
      "cell_type": "code",
      "source": [
        "def BasicConjugateDirection(fun, varlist, start_pt, conj_dirs, n_iters):\n",
        "  assert n_iters == len(conj_dirs), \"Number of conjugate directions must be equal to the number of iterations\"\n",
        "  assert len(varlist) == len(start_pt), \"Starting point dimensions are not compatible with number of independent variables in the function\"\n",
        "  #Q = np.array(sp.hessian(fun, varlist)).astype(np.float64)\n",
        "  Q = sp.hessian(fun, varlist)\n",
        "\n",
        "  #TODO: rewrite these assertions compatible with sympy matrices\n",
        "  #assert np.equal(Q, np.transpose(Q)), \"The Hessian of the function must be symmetric\"\n",
        "  #assert np.greater(Q, 0), \"The Hessian must be a positive matrix\"\n",
        "\n",
        "  grad_fn = grad(fun, varlist)\n",
        "  current_pt = sp.Matrix(start_pt)\n",
        "\n",
        "  #TODO: add conjugate direction validity check!\n",
        "\n",
        "  for i in range(n_iters):\n",
        "    submap = {varlist[j]: current_pt[j] for j in range(len(varlist))}\n",
        "    grad_i = sp.Matrix(grad_fn.subs(submap))\n",
        "    dirvec = sp.Matrix(conj_dirs[i])\n",
        "\n",
        "    num = -(tpose(grad_i) * dirvec)[0]\n",
        "    denum = (tpose(dirvec) * Q * dirvec)[0]\n",
        "    alpha_i = num/denum\n",
        "\n",
        "    current_pt = current_pt + alpha_i * dirvec\n",
        "\n",
        "    submap = {varlist[j]: current_pt[j] for j in range(len(varlist))}\n",
        "    newgrad_i = grad_fn.subs(submap)\n",
        "    \n",
        "  return (current_pt, newgrad_i)"
      ],
      "metadata": {
        "id": "4g3zKKKIcDgh"
      },
      "execution_count": 73,
      "outputs": []
    },
    {
      "cell_type": "code",
      "source": [
        "myfunction = 2*x**2 + y**2 + 2*x*y - x + y\n",
        "startpoint = [0,0]\n",
        "conjdirs = [[1,0], [-3/8, 3/4]]\n",
        "\n",
        "BasicConjugateDirection(myfunction, [x,y], startpoint, conjdirs, 2)"
      ],
      "metadata": {
        "colab": {
          "base_uri": "https://localhost:8080/"
        },
        "id": "QYy0jJX_32q8",
        "outputId": "f1504121-18b4-4eaf-d418-49f639d10cd8"
      },
      "execution_count": 74,
      "outputs": [
        {
          "output_type": "execute_result",
          "data": {
            "text/plain": [
              "(Matrix([\n",
              " [ 1.0],\n",
              " [-1.5]]),\n",
              " [[0], [0]])"
            ]
          },
          "metadata": {},
          "execution_count": 74
        }
      ]
    }
  ]
}